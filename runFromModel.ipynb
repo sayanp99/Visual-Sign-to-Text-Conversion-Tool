{
 "cells": [
  {
   "cell_type": "code",
   "execution_count": 1,
   "id": "7f5aacd1",
   "metadata": {},
   "outputs": [],
   "source": [
    "import tensorflow as tf\n",
    "import cv2\n",
    "from tensorflow.keras.models import Model"
   ]
  },
  {
   "cell_type": "code",
   "execution_count": 2,
   "id": "6bb3e388",
   "metadata": {},
   "outputs": [],
   "source": [
    "model=tf.keras.models.load_model(r\"C:\\Users\\SAYAN\\Desktop\\Project\\signLanguage15e.h5\")"
   ]
  },
  {
   "cell_type": "code",
   "execution_count": 3,
   "id": "4eb78f3e",
   "metadata": {},
   "outputs": [
    {
     "name": "stdout",
     "output_type": "stream",
     "text": [
      "Model: \"sequential\"\n",
      "_________________________________________________________________\n",
      "Layer (type)                 Output Shape              Param #   \n",
      "=================================================================\n",
      "resnet50 (Functional)        (None, 7, 7, 2048)        23587712  \n",
      "_________________________________________________________________\n",
      "flatten (Flatten)            (None, 100352)            0         \n",
      "_________________________________________________________________\n",
      "dense (Dense)                (None, 256)               25690368  \n",
      "_________________________________________________________________\n",
      "dense_1 (Dense)              (None, 256)               65792     \n",
      "_________________________________________________________________\n",
      "dense_2 (Dense)              (None, 36)                9252      \n",
      "=================================================================\n",
      "Total params: 49,353,124\n",
      "Trainable params: 25,765,412\n",
      "Non-trainable params: 23,587,712\n",
      "_________________________________________________________________\n"
     ]
    }
   ],
   "source": [
    "model.summary()"
   ]
  },
  {
   "cell_type": "code",
   "execution_count": 4,
   "id": "d4d7a2d5",
   "metadata": {},
   "outputs": [],
   "source": [
    "def predict(img):\n",
    "  pred = model.predict(img)\n",
    "  return pred"
   ]
  },
  {
   "cell_type": "code",
   "execution_count": 5,
   "id": "66d6e8e7",
   "metadata": {},
   "outputs": [],
   "source": [
    "classes=['0','1','2','3','4','5','6','7','8','9','A','B','C','D','E','F','G','H','I','J','K','L','M','N','O','P','Q','R','S','T','U','V','W','X','Y','Z']\n",
    "words=['0','1','2','3','4','5','6','7','8','9','Apple','Boy','Cat','Dog','Eat','Flower','Game','Hot','Ice','Jack','King','Lion','Mouse','Nose','Onion','Pen','Queen','Roast','Sayan','Tango','Uranus','Venum','Winter','Xmas','Yellow','Zombie']\n",
    "#classes=['A','B','C','D','E','F','G','H','I','J','K','L','M','N','nothing','O','P','Q','R','S','space','T','U','V','W','X','Y','Z']"
   ]
  },
  {
   "cell_type": "code",
   "execution_count": 6,
   "id": "fb8b45e7",
   "metadata": {},
   "outputs": [],
   "source": [
    "import cv2\n",
    "\n",
    "vid = cv2.VideoCapture(0)\n",
    "lst = []\n",
    "flag = 0\n",
    "while(True):\n",
    "    ret, frame = vid.read()\n",
    "    frame = cv2.rectangle(frame, (5,90), (250,390), (0,255,0), 2)\n",
    "#     print(frame.shape)\n",
    "    image = frame[90:390, 5:250]\n",
    "    image = cv2.resize(image, (224,224))\n",
    "    image = image.reshape(1,224,224,3)\n",
    "    pred = predict(image)\n",
    "    if flag == 0:\n",
    "        category = classes[pred.argmax()]\n",
    "    else:\n",
    "        category = words[pred.argmax()]\n",
    "    if cv2.waitKey(1) & 0xFF == ord('r'):\n",
    "        lst.clear()\n",
    "        flag = flag^1\n",
    "    lst.append(category)\n",
    "    alpha = max(set(lst),key = lst.count)\n",
    "    cv2.putText(frame, str(alpha), (5,90), cv2.FONT_HERSHEY_SIMPLEX, 1, (255,0,0), 2)\n",
    "    cv2.imshow('frame', frame)\n",
    "    if cv2.waitKey(1) & 0xFF == ord('q'):\n",
    "        break\n",
    "\n",
    "vid.release()\n",
    "cv2.destroyAllWindows()"
   ]
  },
  {
   "cell_type": "raw",
   "id": "b6b4e42f",
   "metadata": {},
   "source": []
  }
 ],
 "metadata": {
  "kernelspec": {
   "display_name": "Python 3",
   "language": "python",
   "name": "python3"
  },
  "language_info": {
   "codemirror_mode": {
    "name": "ipython",
    "version": 3
   },
   "file_extension": ".py",
   "mimetype": "text/x-python",
   "name": "python",
   "nbconvert_exporter": "python",
   "pygments_lexer": "ipython3",
   "version": "3.8.8"
  }
 },
 "nbformat": 4,
 "nbformat_minor": 5
}
